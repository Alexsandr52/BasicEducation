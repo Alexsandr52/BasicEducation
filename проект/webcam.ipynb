{
 "cells": [
  {
   "cell_type": "code",
   "execution_count": 6,
   "metadata": {},
   "outputs": [],
   "source": [
    "import cv2\n",
    "import numpy as np\n",
    "import time"
   ]
  },
  {
   "cell_type": "code",
   "execution_count": 7,
   "metadata": {},
   "outputs": [],
   "source": [
    "def get_frame_and_pos(cap):\n",
    "    c_radius = 4\n",
    "    ret, frame = cap.read()\n",
    "    hsv = cv2.cvtColor(frame, cv2.COLOR_BGR2HSV)\n",
    "\n",
    "    lower_red = np.array([0, 0, 255])\n",
    "    upper_red = np.array([255, 255, 255])\n",
    "\n",
    "    mask = cv2.inRange(hsv, lower_red, upper_red)\n",
    "    (minVal, maxVal, minLoc, maxLoc) = cv2.minMaxLoc(mask)\n",
    "\n",
    "    cv2.circle(frame, maxLoc, c_radius, (154,255,154), -1, cv2.LINE_AA)\n",
    "    \n",
    "    return maxLoc, frame"
   ]
  },
  {
   "cell_type": "code",
   "execution_count": 8,
   "metadata": {},
   "outputs": [],
   "source": [
    "def draw_pred(lines, frame):\n",
    "    for line in lines:\n",
    "        for i in range(len(line)):\n",
    "            if i != 0:\n",
    "                frame = cv2.line(frame, line[i -1], line[i], (154,255,154), 4)\n",
    "    return frame"
   ]
  },
  {
   "cell_type": "code",
   "execution_count": 9,
   "metadata": {},
   "outputs": [],
   "source": [
    "def draw(lines, frame, pred_lines):\n",
    "    for i in range(len(lines)):\n",
    "        if i != 0:\n",
    "            frame = cv2.line(frame, lines[i -1], lines[i], (154,255,154), 4)\n",
    "\n",
    "    if len(pred_lines) > 0:\n",
    "        frame = draw_pred(pred_lines, frame)\n",
    "        \n",
    "    return frame"
   ]
  },
  {
   "cell_type": "code",
   "execution_count": 10,
   "metadata": {},
   "outputs": [
    {
     "ename": "",
     "evalue": "",
     "output_type": "error",
     "traceback": [
      "\u001b[1;31mThe Kernel crashed while executing code in the the current cell or a previous cell. Please review the code in the cell(s) to identify a possible cause of the failure. Click <a href='https://aka.ms/vscodeJupyterKernelCrash'>here</a> for more info. View Jupyter <a href='command:jupyter.viewOutput'>log</a> for further details."
     ]
    }
   ],
   "source": [
    "\n",
    "cap = cv2.VideoCapture(0)\n",
    "pred_lines = list()\n",
    "points = list()\n",
    "pred = time.time()\n",
    "while (True):\n",
    "    loc, frame = get_frame_and_pos(cap)\n",
    "    \n",
    "    if loc != (0, 0):\n",
    "        if time.time() - pred > 2 and len(points) > 2:\n",
    "            pred_lines.append(points)\n",
    "            points = list()\n",
    "        # pred = time.time()\n",
    "        # points.append(loc)\n",
    "        pred = time.time()\n",
    "        points.append(loc)\n",
    "\n",
    "    frame = draw(points, frame, pred_lines)\n",
    "    frame = cv2.flip(frame, 1)\n",
    "\n",
    "    cv2.imshow('Track Laser', frame)\n",
    "    if cv2.waitKey(1) & 0xFF == ord('q'):\n",
    "        break\n",
    "\n",
    "cap.release()\n",
    "cv2.destroyAllWindows()\n"
   ]
  }
 ],
 "metadata": {
  "kernelspec": {
   "display_name": "Python 3.9.13 64-bit",
   "language": "python",
   "name": "python3"
  },
  "language_info": {
   "codemirror_mode": {
    "name": "ipython",
    "version": 3
   },
   "file_extension": ".py",
   "mimetype": "text/x-python",
   "name": "python",
   "nbconvert_exporter": "python",
   "pygments_lexer": "ipython3",
   "version": "3.9.13"
  },
  "orig_nbformat": 4,
  "vscode": {
   "interpreter": {
    "hash": "50292dbb1f747f7151d445135d392af3138fb3c65386d17d9510cb605222b10b"
   }
  }
 },
 "nbformat": 4,
 "nbformat_minor": 2
}
